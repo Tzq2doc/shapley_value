{
 "cells": [
  {
   "cell_type": "code",
   "execution_count": 5,
   "metadata": {},
   "outputs": [],
   "source": [
    "import pandas as pd\n",
    "#import pandas.io.sql as sqlio\n",
    "#from pyathenajdbc import connect\n",
    "import itertools\n",
    "from collections import defaultdict\n",
    "import numpy as np\n",
    "from math import factorial\n",
    "from matplotlib import pyplot as plt\n",
    "%matplotlib inline"
   ]
  },
  {
   "cell_type": "code",
   "execution_count": 6,
   "metadata": {},
   "outputs": [],
   "source": [
    "df = pd.read_csv('data.csv')"
   ]
  },
  {
   "cell_type": "code",
   "execution_count": 7,
   "metadata": {},
   "outputs": [
    {
     "data": {
      "text/html": [
       "<div>\n",
       "<style scoped>\n",
       "    .dataframe tbody tr th:only-of-type {\n",
       "        vertical-align: middle;\n",
       "    }\n",
       "\n",
       "    .dataframe tbody tr th {\n",
       "        vertical-align: top;\n",
       "    }\n",
       "\n",
       "    .dataframe thead th {\n",
       "        text-align: right;\n",
       "    }\n",
       "</style>\n",
       "<table border=\"1\" class=\"dataframe\">\n",
       "  <thead>\n",
       "    <tr style=\"text-align: right;\">\n",
       "      <th></th>\n",
       "      <th>channels</th>\n",
       "      <th>conversions</th>\n",
       "    </tr>\n",
       "  </thead>\n",
       "  <tbody>\n",
       "    <tr>\n",
       "      <th>0</th>\n",
       "      <td>Off-Facebook Installs,Branch,Instagram Install...</td>\n",
       "      <td>0</td>\n",
       "    </tr>\n",
       "    <tr>\n",
       "      <th>1</th>\n",
       "      <td>Off-Facebook Installs,Organic,Instagram Installs</td>\n",
       "      <td>0</td>\n",
       "    </tr>\n",
       "    <tr>\n",
       "      <th>2</th>\n",
       "      <td>Instagram Installs,Leadbolt,Facebook Installs</td>\n",
       "      <td>2</td>\n",
       "    </tr>\n",
       "    <tr>\n",
       "      <th>3</th>\n",
       "      <td>Leadbolt,Off-Facebook Installs,Branch</td>\n",
       "      <td>5</td>\n",
       "    </tr>\n",
       "    <tr>\n",
       "      <th>4</th>\n",
       "      <td>Branch,Leadbolt,Instagram Installs</td>\n",
       "      <td>0</td>\n",
       "    </tr>\n",
       "  </tbody>\n",
       "</table>\n",
       "</div>"
      ],
      "text/plain": [
       "                                            channels  conversions\n",
       "0  Off-Facebook Installs,Branch,Instagram Install...            0\n",
       "1   Off-Facebook Installs,Organic,Instagram Installs            0\n",
       "2      Instagram Installs,Leadbolt,Facebook Installs            2\n",
       "3              Leadbolt,Off-Facebook Installs,Branch            5\n",
       "4                 Branch,Leadbolt,Instagram Installs            0"
      ]
     },
     "execution_count": 7,
     "metadata": {},
     "output_type": "execute_result"
    }
   ],
   "source": [
    "df.head()"
   ]
  },
  {
   "cell_type": "code",
   "execution_count": 12,
   "metadata": {},
   "outputs": [],
   "source": [
    "channels = ['Instagram Installs', 'Adwords UAC Installs', 'Leadbolt',\n",
    "            'Branch', 'Facebook Installs', 'Organic', 'Off-Facebook Installs',\n",
    "            'AppNext','Facebook Messenger Installs']"
   ]
  },
  {
   "cell_type": "code",
   "execution_count": 8,
   "metadata": {},
   "outputs": [],
   "source": [
    "def subsets(s):\n",
    "    # This function returns all the possible subsets of a set of channels\n",
    "    # s: set of channels\n",
    "    if len(s)==1:\n",
    "        return s\n",
    "    else:\n",
    "        sub_channels=[]\n",
    "        for i in range(1,len(s)+1):\n",
    "            sub_channels.extend(map(list,itertools.combinations(s, i)))\n",
    "    return map(\",\".join,map(sorted,sub_channels))"
   ]
  },
  {
   "cell_type": "code",
   "execution_count": 9,
   "metadata": {},
   "outputs": [],
   "source": [
    "def v_function(A,C_values):\n",
    "    # This function computes the worth of each coalition.\n",
    "    #  \n",
    "    # A : a coalition of channels.\n",
    "    # C_values : A dictionnary containing the number of conversions that each subset of channels has yielded.\n",
    "    \n",
    "    subsets_of_A = subsets(A.split(\",\"))\n",
    "    worth_of_A=0\n",
    "    for subset in subsets_of_A:\n",
    "        if subset in C_values:\n",
    "            worth_of_A += C_values[subset]\n",
    "    return worth_of_A"
   ]
  },
  {
   "cell_type": "code",
   "execution_count": 10,
   "metadata": {},
   "outputs": [],
   "source": [
    "# converting dataframe \"subsets_conversions\" into a dictionnary\n",
    "C_values = df.set_index(\"channels\").to_dict()[\"conversions\"]"
   ]
  },
  {
   "cell_type": "code",
   "execution_count": 13,
   "metadata": {},
   "outputs": [],
   "source": [
    "# For each possible combination of channels A, we compute the total number of conversions yielded by every subset of A. \n",
    "# Example : if A = {c1,c2}, then v(A) = C({c1}) + C({c2}) + C({c1,c2})\n",
    "\n",
    "v_values = {}\n",
    "\n",
    "for A in subsets(channels):\n",
    "    v_values[A] = v_function(A,C_values)"
   ]
  },
  {
   "cell_type": "code",
   "execution_count": 14,
   "metadata": {},
   "outputs": [],
   "source": [
    "n = len(channels)\n",
    "shapley_values = defaultdict(int)"
   ]
  },
  {
   "cell_type": "code",
   "execution_count": 15,
   "metadata": {},
   "outputs": [],
   "source": [
    "for channel in channels:\n",
    "    for A in v_values.keys():\n",
    "        if channel not in A.split(\",\"):\n",
    "            cardinal_A=len(A.split(\",\"))\n",
    "            A_with_channel = A.split(\",\")\n",
    "            A_with_channel.append(channel)            \n",
    "            A_with_channel=\",\".join(sorted(A_with_channel))\n",
    "            shapley_values[channel] += (v_values[A_with_channel]-v_values[A])*(factorial(cardinal_A)*factorial(n-cardinal_A-1)/factorial(n))\n",
    "    # Add the term corresponding to the empty set\n",
    "    shapley_values[channel]+= v_values[channel]/n "
   ]
  },
  {
   "cell_type": "code",
   "execution_count": 16,
   "metadata": {},
   "outputs": [
    {
     "data": {
      "image/png": "[encoded data removed]",
      "text/plain": [
       "<Figure size 1440x720 with 1 Axes>"
      ]
     },
     "metadata": {
      "needs_background": "light"
     },
     "output_type": "display_data"
    }
   ],
   "source": [
    "pd.DataFrame.from_dict(shapley_values, orient='index').plot(kind='barh', figsize=[20,10])\n",
    "plt.show()"
   ]
  },
  {
   "cell_type": "code",
   "execution_count": 17,
   "metadata": {},
   "outputs": [],
   "source": [
    "tmp = df[~df.channels.str.contains(',')]"
   ]
  },
  {
   "cell_type": "code",
   "execution_count": 18,
   "metadata": {},
   "outputs": [],
   "source": [
    "tmp = tmp.groupby('channels').sum()"
   ]
  },
  {
   "cell_type": "code",
   "execution_count": 19,
   "metadata": {},
   "outputs": [
    {
     "data": {
      "text/html": [
       "<div>\n",
       "<style scoped>\n",
       "    .dataframe tbody tr th:only-of-type {\n",
       "        vertical-align: middle;\n",
       "    }\n",
       "\n",
       "    .dataframe tbody tr th {\n",
       "        vertical-align: top;\n",
       "    }\n",
       "\n",
       "    .dataframe thead th {\n",
       "        text-align: right;\n",
       "    }\n",
       "</style>\n",
       "<table border=\"1\" class=\"dataframe\">\n",
       "  <thead>\n",
       "    <tr style=\"text-align: right;\">\n",
       "      <th></th>\n",
       "      <th>conversions</th>\n",
       "    </tr>\n",
       "    <tr>\n",
       "      <th>channels</th>\n",
       "      <th></th>\n",
       "    </tr>\n",
       "  </thead>\n",
       "  <tbody>\n",
       "    <tr>\n",
       "      <th>Adwords UAC Installs</th>\n",
       "      <td>2.136413</td>\n",
       "    </tr>\n",
       "    <tr>\n",
       "      <th>AppNext</th>\n",
       "      <td>1.626847</td>\n",
       "    </tr>\n",
       "    <tr>\n",
       "      <th>Branch</th>\n",
       "      <td>48.086102</td>\n",
       "    </tr>\n",
       "    <tr>\n",
       "      <th>Facebook Installs</th>\n",
       "      <td>21.506649</td>\n",
       "    </tr>\n",
       "    <tr>\n",
       "      <th>Facebook Messenger Installs</th>\n",
       "      <td>0.247388</td>\n",
       "    </tr>\n",
       "    <tr>\n",
       "      <th>Instagram Installs</th>\n",
       "      <td>2.031542</td>\n",
       "    </tr>\n",
       "    <tr>\n",
       "      <th>Leadbolt</th>\n",
       "      <td>0.758299</td>\n",
       "    </tr>\n",
       "    <tr>\n",
       "      <th>Off-Facebook Installs</th>\n",
       "      <td>2.611022</td>\n",
       "    </tr>\n",
       "    <tr>\n",
       "      <th>Organic</th>\n",
       "      <td>20.995738</td>\n",
       "    </tr>\n",
       "  </tbody>\n",
       "</table>\n",
       "</div>"
      ],
      "text/plain": [
       "                             conversions\n",
       "channels                                \n",
       "Adwords UAC Installs            2.136413\n",
       "AppNext                         1.626847\n",
       "Branch                         48.086102\n",
       "Facebook Installs              21.506649\n",
       "Facebook Messenger Installs     0.247388\n",
       "Instagram Installs              2.031542\n",
       "Leadbolt                        0.758299\n",
       "Off-Facebook Installs           2.611022\n",
       "Organic                        20.995738"
      ]
     },
     "execution_count": 19,
     "metadata": {},
     "output_type": "execute_result"
    }
   ],
   "source": [
    "tmp.div(tmp.sum())*100.0"
   ]
  },
  {
   "cell_type": "code",
   "execution_count": 20,
   "metadata": {},
   "outputs": [],
   "source": [
    "sdf = pd.DataFrame.from_dict(shapley_values, orient='index')"
   ]
  },
  {
   "cell_type": "code",
   "execution_count": 21,
   "metadata": {},
   "outputs": [
    {
     "data": {
      "text/html": [
       "<div>\n",
       "<style scoped>\n",
       "    .dataframe tbody tr th:only-of-type {\n",
       "        vertical-align: middle;\n",
       "    }\n",
       "\n",
       "    .dataframe tbody tr th {\n",
       "        vertical-align: top;\n",
       "    }\n",
       "\n",
       "    .dataframe thead th {\n",
       "        text-align: right;\n",
       "    }\n",
       "</style>\n",
       "<table border=\"1\" class=\"dataframe\">\n",
       "  <thead>\n",
       "    <tr style=\"text-align: right;\">\n",
       "      <th></th>\n",
       "      <th>0</th>\n",
       "    </tr>\n",
       "  </thead>\n",
       "  <tbody>\n",
       "    <tr>\n",
       "      <th>Instagram Installs</th>\n",
       "      <td>2.177834</td>\n",
       "    </tr>\n",
       "    <tr>\n",
       "      <th>Adwords UAC Installs</th>\n",
       "      <td>2.084406</td>\n",
       "    </tr>\n",
       "    <tr>\n",
       "      <th>Leadbolt</th>\n",
       "      <td>0.848863</td>\n",
       "    </tr>\n",
       "    <tr>\n",
       "      <th>Branch</th>\n",
       "      <td>47.721683</td>\n",
       "    </tr>\n",
       "    <tr>\n",
       "      <th>Facebook Installs</th>\n",
       "      <td>23.435266</td>\n",
       "    </tr>\n",
       "    <tr>\n",
       "      <th>Organic</th>\n",
       "      <td>19.079597</td>\n",
       "    </tr>\n",
       "    <tr>\n",
       "      <th>Off-Facebook Installs</th>\n",
       "      <td>2.770818</td>\n",
       "    </tr>\n",
       "    <tr>\n",
       "      <th>AppNext</th>\n",
       "      <td>1.611735</td>\n",
       "    </tr>\n",
       "    <tr>\n",
       "      <th>Facebook Messenger Installs</th>\n",
       "      <td>0.269798</td>\n",
       "    </tr>\n",
       "  </tbody>\n",
       "</table>\n",
       "</div>"
      ],
      "text/plain": [
       "                                     0\n",
       "Instagram Installs            2.177834\n",
       "Adwords UAC Installs          2.084406\n",
       "Leadbolt                      0.848863\n",
       "Branch                       47.721683\n",
       "Facebook Installs            23.435266\n",
       "Organic                      19.079597\n",
       "Off-Facebook Installs         2.770818\n",
       "AppNext                       1.611735\n",
       "Facebook Messenger Installs   0.269798"
      ]
     },
     "execution_count": 21,
     "metadata": {},
     "output_type": "execute_result"
    }
   ],
   "source": [
    "sdf.div(sdf.sum())*100.0"
   ]
  },
  {
   "cell_type": "code",
   "execution_count": null,
   "metadata": {},
   "outputs": [],
   "source": []
  }
 ],
 "metadata": {
  "kernelspec": {
   "display_name": "Python 3",
   "language": "python",
   "name": "python3"
  },
  "language_info": {
   "codemirror_mode": {
    "name": "ipython",
    "version": 3
   },
   "file_extension": ".py",
   "mimetype": "text/x-python",
   "name": "python",
   "nbconvert_exporter": "python",
   "pygments_lexer": "ipython3",
   "version": "3.7.3"
  },
  "toc": {
   "base_numbering": 1,
   "nav_menu": {},
   "number_sections": true,
   "sideBar": true,
   "skip_h1_title": false,
   "title_cell": "Table of Contents",
   "title_sidebar": "Contents",
   "toc_cell": false,
   "toc_position": {},
   "toc_section_display": true,
   "toc_window_display": false
  },
  "varInspector": {
   "cols": {
    "lenName": 16,
    "lenType": 16,
    "lenVar": 40
   },
   "kernels_config": {
    "python": {
     "delete_cmd_postfix": "",
     "delete_cmd_prefix": "del ",
     "library": "var_list.py",
     "varRefreshCmd": "print(var_dic_list())"
    },
    "r": {
     "delete_cmd_postfix": ") ",
     "delete_cmd_prefix": "rm(",
     "library": "var_list.r",
     "varRefreshCmd": "cat(var_dic_list()) "
    }
   },
   "types_to_exclude": [
    "module",
    "function",
    "builtin_function_or_method",
    "instance",
    "_Feature"
   ],
   "window_display": false
  }
 },
 "nbformat": 4,
 "nbformat_minor": 2
}
